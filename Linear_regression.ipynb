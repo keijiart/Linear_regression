{
 "cells": [
  {
   "cell_type": "markdown",
   "metadata": {},
   "source": [
    "# Linear Regression\n",
    "\n",
    "In this project, we worked alongside the curriculum of an online course to help us improve the learner experience.\n",
    "\n"
   ]
  },
  {
   "cell_type": "code",
   "execution_count": 1,
   "metadata": {},
   "outputs": [],
   "source": [
    "import pandas as pd\n",
    "import numpy as np\n",
    "import matplotlib.pyplot as plt\n",
    "import seaborn as sns\n",
    "import statsmodels.api as sm"
   ]
  },
  {
   "cell_type": "markdown",
   "metadata": {},
   "source": [
    "1. First we load the data and name it as `df`. \n",
    "\n",
    "    We’re imagining that this data was collected as part of an experiment to understand factors that contribute to learner performance on a quiz. The data contains three columns:\n",
    "\n",
    "    - score: student score on a quiz\n",
    "\n",
    "    - completed: the number of other content items that the learner has completed prior to this quiz\n",
    "\n",
    "    - lesson: indicates which lesson the learner took directly before the quiz ('Lesson A' or 'Lesson B')\n",
    "\n",
    "    Let's tale a look at this dataset by printing the first five rows."
   ]
  },
  {
   "cell_type": "code",
   "execution_count": 5,
   "metadata": {},
   "outputs": [
    {
     "data": {
      "text/html": [
       "<div>\n",
       "<style scoped>\n",
       "    .dataframe tbody tr th:only-of-type {\n",
       "        vertical-align: middle;\n",
       "    }\n",
       "\n",
       "    .dataframe tbody tr th {\n",
       "        vertical-align: top;\n",
       "    }\n",
       "\n",
       "    .dataframe thead th {\n",
       "        text-align: right;\n",
       "    }\n",
       "</style>\n",
       "<table border=\"1\" class=\"dataframe\">\n",
       "  <thead>\n",
       "    <tr style=\"text-align: right;\">\n",
       "      <th></th>\n",
       "      <th>score</th>\n",
       "      <th>completed</th>\n",
       "      <th>lesson</th>\n",
       "    </tr>\n",
       "  </thead>\n",
       "  <tbody>\n",
       "    <tr>\n",
       "      <th>0</th>\n",
       "      <td>82.7</td>\n",
       "      <td>35.0</td>\n",
       "      <td>Lesson A</td>\n",
       "    </tr>\n",
       "    <tr>\n",
       "      <th>1</th>\n",
       "      <td>65.2</td>\n",
       "      <td>31.0</td>\n",
       "      <td>Lesson A</td>\n",
       "    </tr>\n",
       "    <tr>\n",
       "      <th>2</th>\n",
       "      <td>55.3</td>\n",
       "      <td>33.0</td>\n",
       "      <td>Lesson A</td>\n",
       "    </tr>\n",
       "    <tr>\n",
       "      <th>3</th>\n",
       "      <td>28.8</td>\n",
       "      <td>25.0</td>\n",
       "      <td>Lesson B</td>\n",
       "    </tr>\n",
       "    <tr>\n",
       "      <th>4</th>\n",
       "      <td>31.2</td>\n",
       "      <td>18.0</td>\n",
       "      <td>Lesson B</td>\n",
       "    </tr>\n",
       "  </tbody>\n",
       "</table>\n",
       "</div>"
      ],
      "text/plain": [
       "   score  completed    lesson\n",
       "0   82.7       35.0  Lesson A\n",
       "1   65.2       31.0  Lesson A\n",
       "2   55.3       33.0  Lesson A\n",
       "3   28.8       25.0  Lesson B\n",
       "4   31.2       18.0  Lesson B"
      ]
     },
     "execution_count": 5,
     "metadata": {},
     "output_type": "execute_result"
    }
   ],
   "source": [
    "df = pd.read_csv('codecademy.csv')\n",
    "df.head()"
   ]
  },
  {
   "cell_type": "markdown",
   "metadata": {},
   "source": [
    "# Model the relationship between quiz score and number of completed content items\n",
    "\n",
    "2. We ploted a scatter plot of score (y-axis) against completed (x-axis) to see the relationship between quiz score and number of completed content items. "
   ]
  },
  {
   "cell_type": "code",
   "execution_count": 6,
   "metadata": {},
   "outputs": [
    {
     "data": {
      "image/png": "[encoded data removed]",
      "text/plain": [
       "<Figure size 432x288 with 1 Axes>"
      ]
     },
     "metadata": {
      "needs_background": "light"
     },
     "output_type": "display_data"
    },
    {
     "data": {
      "text/plain": [
       "<Figure size 432x288 with 0 Axes>"
      ]
     },
     "metadata": {},
     "output_type": "display_data"
    }
   ],
   "source": [
    "plt.scatter(df.completed, df.score)\n",
    "plt.show()\n",
    "plt.clf()\n",
    "\n",
    "# Is there a relationship between these two variables, and does it appear to be linear?"
   ]
  },
  {
   "cell_type": "markdown",
   "metadata": {},
   "source": [
    "3. Create and fit a linear regression model that predicts score using completed as the predictor. Print out the regression coefficients."
   ]
  },
  {
   "cell_type": "code",
   "execution_count": 7,
   "metadata": {},
   "outputs": [
    {
     "name": "stdout",
     "output_type": "stream",
     "text": [
      "Intercept    13.214113\n",
      "completed     1.306826\n",
      "dtype: float64\n"
     ]
    }
   ],
   "source": [
    "model = sm.OLS.from_formula('score ~ completed', df)\n",
    "results = model.fit()\n",
    "print(results.params)"
   ]
  },
  {
   "cell_type": "markdown",
   "metadata": {},
   "source": [
    "4. Write a one-sentence (each) interpretation of the slope and intercept that you printed out in the previous step. Make sure to comment out the interpretation so your code still runs."
   ]
  },
  {
   "cell_type": "code",
   "execution_count": 9,
   "metadata": {},
   "outputs": [],
   "source": [
    "# Intercept interpretation:\n",
    "# A learner who has previously completed 0 content items is expected to earn a quiz score of 13.2 points.\n",
    "\n",
    "# Slope interpretation:\n",
    "# Students who have completed one additional prior content item are expected to score 1.3 points higher on the quiz."
   ]
  },
  {
   "cell_type": "markdown",
   "metadata": {},
   "source": [
    "5. Plot the same scatter plot that you made earlier (with score on the y-axis and completed on the x-axis), but this time add the regression line on top of the plot. Make sure to show, then clear the plot.\n",
    "\n",
    "    Do you think this line fits the data well?"
   ]
  },
  {
   "cell_type": "code",
   "execution_count": 8,
   "metadata": {},
   "outputs": [
    {
     "data": {
      "image/png": "[encoded data removed]",
      "text/plain": [
       "<Figure size 432x288 with 1 Axes>"
      ]
     },
     "metadata": {
      "needs_background": "light"
     },
     "output_type": "display_data"
    },
    {
     "data": {
      "text/plain": [
       "<Figure size 432x288 with 0 Axes>"
      ]
     },
     "metadata": {},
     "output_type": "display_data"
    }
   ],
   "source": [
    "plt.scatter(df.completed, df.score)\n",
    "plt.plot(df.completed, results.predict(df))\n",
    "plt.show()\n",
    "plt.clf()"
   ]
  },
  {
   "cell_type": "markdown",
   "metadata": {},
   "source": [
    "6. Use your model to calculate the predicted quiz score for a learner who has previously completed 20 other content items."
   ]
  },
  {
   "cell_type": "code",
   "execution_count": 9,
   "metadata": {},
   "outputs": [
    {
     "name": "stdout",
     "output_type": "stream",
     "text": [
      "predicted score for learner who has completed 20 prior lessons:  0    39.350625\n",
      "dtype: float64\n"
     ]
    }
   ],
   "source": [
    "# Predict score for learner who has completed 20 prior lessons\n",
    "# pred20 = results.params[0] + results.params[1]*20\n",
    "\n",
    "#OR\n",
    "newdata = {'completed':[20]}\n",
    "pred20 = results.predict(newdata)\n",
    "print('predicted score for learner who has completed 20 prior lessons: ', pred20)"
   ]
  },
  {
   "cell_type": "markdown",
   "metadata": {},
   "source": [
    "7. Calculate the fitted values for your model and save them as fitted_values."
   ]
  },
  {
   "cell_type": "code",
   "execution_count": 10,
   "metadata": {},
   "outputs": [],
   "source": [
    "# Calculate fitted values\n",
    "fitted_values = results.predict(df)"
   ]
  },
  {
   "cell_type": "markdown",
   "metadata": {},
   "source": [
    "8. Calculate the residuals for the model and save the result as residuals."
   ]
  },
  {
   "cell_type": "code",
   "execution_count": 11,
   "metadata": {},
   "outputs": [],
   "source": [
    "# Calculate residuals\n",
    "residuals = df.score - fitted_values"
   ]
  },
  {
   "cell_type": "markdown",
   "metadata": {},
   "source": [
    "9. Check the normality assumption for linear regression by plotting a histogram of the residuals. Make sure to show and clear the plot.\n",
    "\n",
    "    Do the residuals appear to be approximately normally distributed?"
   ]
  },
  {
   "cell_type": "code",
   "execution_count": 12,
   "metadata": {},
   "outputs": [
    {
     "data": {
      "image/png": "[encoded data removed]",
      "text/plain": [
       "<Figure size 432x288 with 1 Axes>"
      ]
     },
     "metadata": {
      "needs_background": "light"
     },
     "output_type": "display_data"
    },
    {
     "data": {
      "text/plain": [
       "<Figure size 432x288 with 0 Axes>"
      ]
     },
     "metadata": {},
     "output_type": "display_data"
    }
   ],
   "source": [
    "# Check normality assumption\n",
    "plt.hist(residuals)\n",
    "plt.show()\n",
    "plt.clf()"
   ]
  },
  {
   "cell_type": "markdown",
   "metadata": {},
   "source": [
    "10. Check the homoscedasticity assumption for linear regression by plotting the residuals (y-axis) against the fitted values (x-axis).\n",
    "\n",
    "    Do you see any patterns or is the homoscedasticity assumption met?"
   ]
  },
  {
   "cell_type": "code",
   "execution_count": 13,
   "metadata": {},
   "outputs": [
    {
     "data": {
      "image/png": "[encoded data removed]",
      "text/plain": [
       "<Figure size 432x288 with 1 Axes>"
      ]
     },
     "metadata": {
      "needs_background": "light"
     },
     "output_type": "display_data"
    },
    {
     "data": {
      "text/plain": [
       "<Figure size 432x288 with 0 Axes>"
      ]
     },
     "metadata": {},
     "output_type": "display_data"
    }
   ],
   "source": [
    "# Check homoscedasticity assumption\n",
    "plt.scatter(fitted_values, residuals)\n",
    "plt.show()\n",
    "plt.clf()"
   ]
  },
  {
   "cell_type": "markdown",
   "metadata": {},
   "source": [
    "# Do learners who take lesson A or B perform better on the quiz?\n",
    "\n",
    "11. Let’s now turn our attention to the lessons column to see if learners who took different lessons scored differently on the quiz.\n",
    "\n",
    "    Use sns.boxplot to create a boxplot of score (y-variable) for each lesson (x-variable) to see the relationship between quiz score and which lesson the learner completed immediately before taking the quiz. Make sure to show, then clear the plot.\n",
    "\n",
    "    Does one lesson appear to do a better job than the other of preparing students for this quiz? If so, which one?"
   ]
  },
  {
   "cell_type": "code",
   "execution_count": 14,
   "metadata": {},
   "outputs": [
    {
     "data": {
      "image/png": "[encoded data removed]",
      "text/plain": [
       "<Figure size 432x288 with 1 Axes>"
      ]
     },
     "metadata": {
      "needs_background": "light"
     },
     "output_type": "display_data"
    },
    {
     "data": {
      "text/plain": [
       "<Figure size 432x288 with 0 Axes>"
      ]
     },
     "metadata": {},
     "output_type": "display_data"
    }
   ],
   "source": [
    "# Create a boxplot of score vs lesson\n",
    "sns.boxplot(x = 'lesson', y = 'score', data = df)\n",
    "plt.show()\n",
    "plt.clf()"
   ]
  },
  {
   "cell_type": "markdown",
   "metadata": {},
   "source": [
    "12. Create and fit a linear regression model that predicts score using lesson as the predictor. Print out the regression coefficients."
   ]
  },
  {
   "cell_type": "code",
   "execution_count": 15,
   "metadata": {},
   "outputs": [
    {
     "name": "stdout",
     "output_type": "stream",
     "text": [
      "Intercept             59.220\n",
      "lesson[T.Lesson B]   -11.642\n",
      "dtype: float64\n"
     ]
    }
   ],
   "source": [
    "# Fit a linear regression to predict score based on which lesson they took\n",
    "model = sm.OLS.from_formula('score ~ lesson', df)\n",
    "results = model.fit()\n",
    "print(results.params)"
   ]
  },
  {
   "cell_type": "markdown",
   "metadata": {},
   "source": [
    "13. Calculate and print out the mean quiz scores for learners who took lesson A and lesson B.\n",
    "    \n",
    "    Calculate and print out the mean difference.\n",
    "\n",
    "    Can you see how these numbers relate to the intercept and slope that you printed out in the linear regression output?"
   ]
  },
  {
   "cell_type": "code",
   "execution_count": 16,
   "metadata": {},
   "outputs": [
    {
     "name": "stdout",
     "output_type": "stream",
     "text": [
      "lesson\n",
      "Lesson A    59.220\n",
      "Lesson B    47.578\n",
      "Name: score, dtype: float64\n"
     ]
    }
   ],
   "source": [
    "print(df.groupby('lesson').mean().score)"
   ]
  },
  {
   "cell_type": "markdown",
   "metadata": {},
   "source": [
    "14. Congratulations! You’ve used a simple linear model to understand how quiz scores are related to other learner actions. In this project, we’ve focused on modeling the relationship between quiz score and one other variable at a time (first we looked at completed, then we looked at lesson separately).\n",
    "\n",
    "    The next step in linear regression is to model quiz scores as a function of multiple other variables at once! To get a preview of what this might look like visually, let’s try using seaborn‘s lmplot() function to plot a scatter plot of score vs. completed, colored by lesson. For context, the lm in lmplot() stands for “linear model”. This function will automatically plot a linear regression model on top of the scatter plot. The code to implement this looks like:\n",
    "\n",
    "    `sns.lmplot(x = 'completed', y = 'score', hue = 'lesson', data = codecademy)`\n",
    "    \n",
    "    `plt.show()`\n",
    "\n",
    "    Note that when we include a third variable in our plot using the hue parameter (which controls the color of each point in the scatter plot), something interesting happens! All of a sudden, we end up with multiple regression lines. To find out how to fit and interpret this model, you’ll have to continue learning about linear regression!"
   ]
  },
  {
   "cell_type": "code",
   "execution_count": 17,
   "metadata": {},
   "outputs": [
    {
     "data": {
      "image/png": "[encoded data removed]",
      "text/plain": [
       "<Figure size 440.375x360 with 1 Axes>"
      ]
     },
     "metadata": {
      "needs_background": "light"
     },
     "output_type": "display_data"
    }
   ],
   "source": [
    "# Use `sns.lmplot()` to plot `score` vs. `completed` colored by `lesson`\n",
    "sns.lmplot(x = 'completed', y = 'score', hue = 'lesson', data = df)\n",
    "plt.show()"
   ]
  }
 ],
 "metadata": {
  "interpreter": {
   "hash": "51ba172a9db2ba9bd6569a8a7361d34beb499103f4f240382399ffb78e49dc3f"
  },
  "kernelspec": {
   "display_name": "Python 3.9.7 ('base')",
   "language": "python",
   "name": "python3"
  },
  "language_info": {
   "codemirror_mode": {
    "name": "ipython",
    "version": 3
   },
   "file_extension": ".py",
   "mimetype": "text/x-python",
   "name": "python",
   "nbconvert_exporter": "python",
   "pygments_lexer": "ipython3",
   "version": "3.9.7"
  },
  "orig_nbformat": 4
 },
 "nbformat": 4,
 "nbformat_minor": 2
}
